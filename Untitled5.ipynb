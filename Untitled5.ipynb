{
 "cells": [
  {
   "cell_type": "code",
   "execution_count": 15,
   "metadata": {},
   "outputs": [],
   "source": [
    "import pandas as pd\n",
    "import numpy as np\n",
    "import os, sys, time, random\n",
    "from datetime import datetime\n",
    "\n",
    "\n",
    "class SPCDataConfig:\n",
    "    def __init__(self, start_date_str, end_date_str, ctype, cnt, data_order, cl, sl, target):\n",
    "        self.start_date_str = start_date_str\n",
    "        self.end_date_str = end_date_str\n",
    "        self.ctype = ctype\n",
    "        self.cnt = cnt\n",
    "        self.data_order = data_order\n",
    "        self.cl = cl\n",
    "        self.sl = sl\n",
    "        self.target = target\n",
    "        self.dt_fmt = '%Y/%m/%d %H:%M:%S.%f'\n",
    "        self.start_date_dt = datetime.strptime(self.start_date_str, self.dt_fmt)\n",
    "        self.end_date_dt = datetime.strptime(self.end_date_str, self.dt_fmt)\n",
    "        self.start_date_num = int(self.start_date_dt.timestamp())\n",
    "        self.end_date_num = int(self.end_date_dt.timestamp())"
   ]
  },
  {
   "cell_type": "code",
   "execution_count": 16,
   "metadata": {},
   "outputs": [],
   "source": [
    "class DataTimeGenerator:\n",
    "    def __init__(self, cfg):\n",
    "        self.cfg = cfg\n",
    "\n",
    "    def gen(self):\n",
    "        np.random.seed(123)\n",
    "        time_series_num = np.random.randint(self.cfg.start_date_num, self.cfg.end_date_num, self.cfg.cnt)\n",
    "        time_series_num = np.sort(time_series_num)\n",
    "        time_series = [datetime.fromtimestamp(x) for x in time_series_num]\n",
    "        return time_series"
   ]
  },
  {
   "cell_type": "code",
   "execution_count": 17,
   "metadata": {},
   "outputs": [],
   "source": [
    "class RawDataGenerator:\n",
    "    def __init__(self, cfg):\n",
    "        self.cfg = cfg\n",
    "\n",
    "    def gen(self):\n",
    "        np.random.seed(123)\n",
    "        values = np.random.randn(self.cfg.cnt) * self.cfg.data_order\n",
    "        return values"
   ]
  },
  {
   "cell_type": "code",
   "execution_count": 18,
   "metadata": {},
   "outputs": [],
   "source": [
    "class ControlLimitGenerator:\n",
    "    def __init__(self, cfg):\n",
    "        self.cfg = cfg\n",
    "\n",
    "    def gen(self):\n",
    "        CL = self.cfg.cl\n",
    "        UCL = np.ones(self.cfg.cnt) * CL\n",
    "        LCL = np.ones(self.cfg.cnt) * -CL\n",
    "        return UCL, LCL\n",
    "    \n",
    "class SpecificationLimitGenerator:\n",
    "    def __init__(self, cfg):\n",
    "        self.cfg = cfg\n",
    "\n",
    "    def gen(self):\n",
    "        SL = self.cfg.sl\n",
    "        USL = np.ones(self.cfg.cnt) * SL\n",
    "        LSL = np.ones(self.cfg.cnt) * -SL\n",
    "        return USL, LSL\n",
    "\n",
    "class TargetGenerator:\n",
    "    def __init__(self, cfg):\n",
    "        self.cfg = cfg\n",
    "\n",
    "    def gen(self):\n",
    "        TARGET = np.ones(self.cfg.cnt) * self.cfg.target\n",
    "        return TARGET"
   ]
  },
  {
   "cell_type": "code",
   "execution_count": 19,
   "metadata": {},
   "outputs": [],
   "source": [
    "class LotIdGenerator:\n",
    "    def __init__(self, cfg):\n",
    "        self.cfg = cfg\n",
    "\n",
    "    def gen(self):\n",
    "        np.random.seed(123)\n",
    "        LETTER = ['W', 'X', 'Y', 'Z']\n",
    "        lotid = ['A21{0:s}{0:s}{1:03d}'.format(LETTER[random.randint(0, 3)], random.randint(1, 999)) for x in range(self.cfg.cnt)]\n",
    "        itemid = ['{0:02d}'.format(random.randint(1, 25)) for x in range(self.cfg.cnt)]\n",
    "        lot_info = pd.DataFrame({\n",
    "            'Lot': lotid, 'Item2': itemid\n",
    "        }, columns=['Lot', 'Item2'])\n",
    "        lot_info[\"Lot_ID\"] = lot_info['Lot']\n",
    "        lot_info[\"Item_ID\"] = lot_info['Lot'].str.cat(lot_info['Item2'].values, sep='.')\n",
    "        return lot_info"
   ]
  },
  {
   "cell_type": "code",
   "execution_count": 20,
   "metadata": {},
   "outputs": [],
   "source": [
    "class SPCDataGenerator:\n",
    "    def __init__(self, cfg):\n",
    "        self.cfg = cfg\n",
    "\n",
    "    def gen(self):\n",
    "        TS = DataTimeGenerator(self.cfg)\n",
    "        RD = RawDataGenerator(self.cfg)\n",
    "        CL = ControlLimitGenerator(self.cfg)\n",
    "        SL = SpecificationLimitGenerator(self.cfg)\n",
    "        TG = TargetGenerator(self.cfg)\n",
    "        LI = LotIdGenerator(self.cfg)\n",
    "\n",
    "        time_series = TS.gen()\n",
    "        values = RD.gen()\n",
    "        UCL, LCL = CL.gen()\n",
    "        USL, LSL = SL.gen()\n",
    "        target = TG.gen()\n",
    "        lot_info = LI.gen()\n",
    "\n",
    "        self.df = pd.DataFrame({\n",
    "            'Data_Time': time_series,\n",
    "            'Lot_ID': lot_info['Lot_ID'].values,\n",
    "            'Item_ID': lot_info['Item_ID'].values,\n",
    "            'Value': values,\n",
    "            'Target': target,\n",
    "            'UCL': UCL,\n",
    "            'LCL': LCL,\n",
    "            'USL': USL,\n",
    "            'LSL':LSL\n",
    "        })\n",
    "        self.df = self.df[['Data_Time', 'Lot_ID', 'Item_ID', 'Value', 'Target', 'UCL', 'LCL','USL','LSL']]\n",
    "\n",
    "        return self.df\n",
    "\n",
    "# define configurations:\n",
    "data_cnt = 100\n",
    "chart_type = 'MEAN'\n",
    "\n",
    "spc_cfg = SPCDataConfig('2023/11/17 00:00:00.0', '2023/12/18 00:00:00.0', ctype=chart_type, cnt=data_cnt, data_order=0.1, cl=0.3, sl=0.2 , target=0)\n",
    "SPC = SPCDataGenerator(spc_cfg)\n",
    "spc_df = SPC.gen()\n"
   ]
  },
  {
   "cell_type": "code",
   "execution_count": 21,
   "metadata": {},
   "outputs": [
    {
     "name": "stdout",
     "output_type": "stream",
     "text": [
      "+----+---------------------+----------+-------------+------------+----------+-------+-------+-------+-------+\n",
      "|    | Data_Time           | Lot_ID   | Item_ID     |      Value |   Target |   UCL |   LCL |   USL |   LSL |\n",
      "|----+---------------------+----------+-------------+------------+----------+-------+-------+-------+-------|\n",
      "|  0 | 2023-11-17 07:47:10 | A21ZZ069 | A21ZZ069.01 | -0.108563  |        0 |   0.3 |  -0.3 |   0.2 |  -0.2 |\n",
      "|  1 | 2023-11-17 08:10:27 | A21ZZ020 | A21ZZ020.17 |  0.0997345 |        0 |   0.3 |  -0.3 |   0.2 |  -0.2 |\n",
      "|  2 | 2023-11-17 11:12:17 | A21YY506 | A21YY506.07 |  0.0282978 |        0 |   0.3 |  -0.3 |   0.2 |  -0.2 |\n",
      "|  3 | 2023-11-17 13:04:38 | A21YY295 | A21YY295.04 | -0.150629  |        0 |   0.3 |  -0.3 |   0.2 |  -0.2 |\n",
      "|  4 | 2023-11-18 11:49:05 | A21YY280 | A21YY280.02 | -0.05786   |        0 |   0.3 |  -0.3 |   0.2 |  -0.2 |\n",
      "+----+---------------------+----------+-------------+------------+----------+-------+-------+-------+-------+\n"
     ]
    }
   ],
   "source": [
    "from tabulate import tabulate\n",
    "print(tabulate(spc_df.head(), headers='keys', tablefmt='psql'))"
   ]
  },
  {
   "cell_type": "code",
   "execution_count": null,
   "metadata": {},
   "outputs": [],
   "source": []
  },
  {
   "cell_type": "code",
   "execution_count": null,
   "metadata": {},
   "outputs": [],
   "source": []
  },
  {
   "cell_type": "code",
   "execution_count": null,
   "metadata": {},
   "outputs": [],
   "source": []
  }
 ],
 "metadata": {
  "kernelspec": {
   "display_name": "Python 3",
   "language": "python",
   "name": "python3"
  },
  "language_info": {
   "codemirror_mode": {
    "name": "ipython",
    "version": 3
   },
   "file_extension": ".py",
   "mimetype": "text/x-python",
   "name": "python",
   "nbconvert_exporter": "python",
   "pygments_lexer": "ipython3",
   "version": "3.7.5"
  }
 },
 "nbformat": 4,
 "nbformat_minor": 4
}
