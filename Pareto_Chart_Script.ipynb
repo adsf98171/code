import xlwings as xw
import pandas as pd
import seaborn as sns
import matplotlib.pyplot as plt
import os

df = pd.DataFrame({'Type of Medication error': [3, 83, 16, 53, 59, 7, 27, 9, 76, 4, 92, 1]})
df.index = ['Technique error', 'Wrong time', 'Wrong calculation', 'Wrong patient', 'Over dose',
            'Under dose', 'Wrong route', 'Duplicated drugs',
            'Wrong drug', 'Wrong IV rate', 'Dose missed', 'Unauthorised drug']

#df.to_csv("simulation_data.csv")

#檢查檔案

# import os

# file_path = r"U:\新增資料夾\simulation_data.csv"
# if os.path.exists(file_path):
#     work = xw.Book(file_path)
# else:
#     print(f"File not found: {file_path}")

# 指定文件路径
file_path = r"U:\新增資料夾\simulation_data.csv"

# 检查文件是否存在
if os.path.exists(file_path):
    work = xw.Book(file_path)
    sheet = work.sheets[0]
    df = sheet.used_range.options(pd.DataFrame, header=1, index=False).value

df.columns.values[0] = 'Index'


df = df.sort_values(by='Type of Medication error', ascending=False)
df['Percent of Errors'] = df['Type of Medication error'] / df['Type of Medication error'].sum() * 100
df['Cumulative Percent'] = df['Percent of Errors'].cumsum()


df = df.reset_index(drop=True)

sns.set_style("whitegrid")
fig, ax1 = plt.subplots(figsize=(8, 5))
sns.barplot(x=df.Index, y='Type of Medication error', color='cadetblue', data=df) #cadetblue
sns.lineplot(x=df.Index, y='Cumulative Percent', color='blue', data=df, marker='o', linestyle='--', style=None)
plt.xlabel('Type of Medication Error')
plt.ylabel('Count/Cumulative Percentage (%)')
plt.title('Pareto Chart of Medication Errors')
plt.xticks(rotation=45, ha='right')
plt.grid(True)
plt.tight_layout()


image_path = r"U:\新增資料夾\pareto_chart.png"
plt.savefig(image_path)


sheet.pictures.add(image_path, name="ParetoChart", update=True, left=sheet.range("A10").left, top=sheet.range("A10").top)


plt.show()
