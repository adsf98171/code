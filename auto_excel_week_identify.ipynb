{
 "cells": [
  {
   "cell_type": "markdown",
   "id": "rural-monitoring",
   "metadata": {},
   "source": [
    "# Import library"
   ]
  },
  {
   "cell_type": "code",
   "execution_count": 1,
   "id": "smart-float",
   "metadata": {
    "execution": {
     "iopub.execute_input": "2021-06-20T11:55:49.259101Z",
     "iopub.status.busy": "2021-06-20T11:55:49.258099Z",
     "iopub.status.idle": "2021-06-20T11:55:50.059539Z",
     "shell.execute_reply": "2021-06-20T11:55:50.058540Z",
     "shell.execute_reply.started": "2021-06-20T11:55:49.259101Z"
    }
   },
   "outputs": [],
   "source": [
    "# deal with data\n",
    "import pandas as pd\n",
    "import numpy as np  # only used for synthetic data\n",
    "import random  # only used for synthetic data\n",
    "from datetime import datetime  # only used for synthetic data\n",
    "import re\n",
    "\n",
    "# load data\n",
    "import glob\n",
    "\n",
    "# deal with excel\n",
    "import xlsxwriter\n",
    "import os\n",
    "import shutil\n",
    "import win32com.client as win32\n",
    "\n",
    "# deal with directory\n",
    "from pathlib import Path"
   ]
  },
  {
   "cell_type": "code",
   "execution_count": 2,
   "id": "armed-wheel",
   "metadata": {
    "execution": {
     "iopub.execute_input": "2021-06-20T11:55:50.062539Z",
     "iopub.status.busy": "2021-06-20T11:55:50.061542Z",
     "iopub.status.idle": "2021-06-20T11:55:52.710746Z",
     "shell.execute_reply": "2021-06-20T11:55:52.709800Z",
     "shell.execute_reply.started": "2021-06-20T11:55:50.062539Z"
    },
    "tags": []
   },
   "outputs": [
    {
     "name": "stdin",
     "output_type": "stream",
     "text": [
      "Mode(initial/auto):  auto\n"
     ]
    }
   ],
   "source": [
    "procss = input('Mode(initial/auto): ')\n",
    "if (procss!='initial') and (procss!='auto'):\n",
    "    raise ValueError('Please type a right name by hint.')"
   ]
  },
  {
   "cell_type": "code",
   "execution_count": 3,
   "id": "brave-singles",
   "metadata": {
    "execution": {
     "iopub.execute_input": "2021-06-20T11:55:52.713728Z",
     "iopub.status.busy": "2021-06-20T11:55:52.712730Z",
     "iopub.status.idle": "2021-06-20T11:55:57.332467Z",
     "shell.execute_reply": "2021-06-20T11:55:57.330466Z",
     "shell.execute_reply.started": "2021-06-20T11:55:52.713728Z"
    },
    "tags": []
   },
   "outputs": [
    {
     "name": "stdin",
     "output_type": "stream",
     "text": [
      "week identify interval(ex.20210531_20210606):  20210531_20210606\n"
     ]
    }
   ],
   "source": [
    "date_interval = input('week identify interval(ex.20210531_20210606): ')\n",
    "if not re.match(r'\\d{8}_\\d{8}', date_interval):  # match 本身就會從起始位置開始匹配\n",
    "    raise ValueError('Please type a right date format by hint.')"
   ]
  },
  {
   "cell_type": "markdown",
   "id": "corporate-arcade",
   "metadata": {},
   "source": [
    "### 檢查每周辨識的資料夾是否存在，不存在創建一個，存在就不另行創建"
   ]
  },
  {
   "cell_type": "code",
   "execution_count": 4,
   "id": "controversial-infrared",
   "metadata": {
    "execution": {
     "iopub.execute_input": "2021-06-20T11:55:57.335466Z",
     "iopub.status.busy": "2021-06-20T11:55:57.334466Z",
     "iopub.status.idle": "2021-06-20T11:55:57.348462Z",
     "shell.execute_reply": "2021-06-20T11:55:57.346463Z",
     "shell.execute_reply.started": "2021-06-20T11:55:57.335466Z"
    }
   },
   "outputs": [],
   "source": [
    "week_identify_directory = os.path.abspath(f\"../Data/week_identify/{date_interval}\")"
   ]
  },
  {
   "cell_type": "code",
   "execution_count": 5,
   "id": "everyday-bridal",
   "metadata": {
    "execution": {
     "iopub.execute_input": "2021-06-20T11:55:57.351462Z",
     "iopub.status.busy": "2021-06-20T11:55:57.350464Z",
     "iopub.status.idle": "2021-06-20T11:55:57.379972Z",
     "shell.execute_reply": "2021-06-20T11:55:57.377972Z",
     "shell.execute_reply.started": "2021-06-20T11:55:57.351462Z"
    }
   },
   "outputs": [],
   "source": [
    "Path(week_identify_directory).mkdir(parents=False, exist_ok=True)"
   ]
  },
  {
   "cell_type": "markdown",
   "id": "unnecessary-debate",
   "metadata": {},
   "source": [
    "# Deal with data"
   ]
  },
  {
   "cell_type": "code",
   "execution_count": 6,
   "id": "composite-venture",
   "metadata": {
    "execution": {
     "iopub.execute_input": "2021-06-20T11:55:57.382972Z",
     "iopub.status.busy": "2021-06-20T11:55:57.381972Z",
     "iopub.status.idle": "2021-06-20T11:55:57.397970Z",
     "shell.execute_reply": "2021-06-20T11:55:57.394971Z",
     "shell.execute_reply.started": "2021-06-20T11:55:57.382972Z"
    }
   },
   "outputs": [],
   "source": [
    "# extract file date\n",
    "def extract_date(x):\n",
    "    res = re.findall(r'\\d+(?=.csv)', file)\n",
    "    if len(res)==1:\n",
    "        res=res[0]\n",
    "    else:\n",
    "        raise ValueError('extract date error')\n",
    "    return res"
   ]
  },
  {
   "cell_type": "code",
   "execution_count": 7,
   "id": "fatty-italy",
   "metadata": {
    "execution": {
     "iopub.execute_input": "2021-06-20T11:55:57.412966Z",
     "iopub.status.busy": "2021-06-20T11:55:57.411968Z",
     "iopub.status.idle": "2021-06-20T11:55:57.474958Z",
     "shell.execute_reply": "2021-06-20T11:55:57.471957Z",
     "shell.execute_reply.started": "2021-06-20T11:55:57.412966Z"
    }
   },
   "outputs": [
    {
     "name": "stdout",
     "output_type": "stream",
     "text": [
      "load file: ../Data/week_identify/20210531_20210606\\file_20210605.csv\n",
      "all data len: 863\n",
      "load file: ../Data/week_identify/20210531_20210606\\file_20210606.csv\n",
      "all data len: 1403\n"
     ]
    }
   ],
   "source": [
    "# run several date\n",
    "deed_detail = pd.DataFrame()\n",
    "date_li = []\n",
    "for file in glob.glob(f\"../Data/week_identify/{date_interval}/file*.csv\"):\n",
    "    print(f\"load file: {file}\")\n",
    "    date_li.append(extract_date(file))\n",
    "    df = pd.read_csv(file)\n",
    "    deed_detail = pd.concat([deed_detail, df])\n",
    "    print(f\"all data len: {len(deed_detail)}\")\n",
    "deed_detail = deed_detail.reset_index(drop=True)"
   ]
  },
  {
   "cell_type": "code",
   "execution_count": 8,
   "id": "theoretical-climate",
   "metadata": {
    "execution": {
     "iopub.execute_input": "2021-06-20T11:55:57.483955Z",
     "iopub.status.busy": "2021-06-20T11:55:57.481957Z",
     "iopub.status.idle": "2021-06-20T11:55:57.567943Z",
     "shell.execute_reply": "2021-06-20T11:55:57.565950Z",
     "shell.execute_reply.started": "2021-06-20T11:55:57.483955Z"
    }
   },
   "outputs": [
    {
     "data": {
      "text/html": [
       "<div>\n",
       "<style scoped>\n",
       "    .dataframe tbody tr th:only-of-type {\n",
       "        vertical-align: middle;\n",
       "    }\n",
       "\n",
       "    .dataframe tbody tr th {\n",
       "        vertical-align: top;\n",
       "    }\n",
       "\n",
       "    .dataframe thead th {\n",
       "        text-align: right;\n",
       "    }\n",
       "</style>\n",
       "<table border=\"1\" class=\"dataframe\">\n",
       "  <thead>\n",
       "    <tr style=\"text-align: right;\">\n",
       "      <th></th>\n",
       "      <th>date</th>\n",
       "      <th>identify_date</th>\n",
       "      <th>store_id</th>\n",
       "      <th>deed_type</th>\n",
       "      <th>file_name</th>\n",
       "      <th>identify_status</th>\n",
       "    </tr>\n",
       "  </thead>\n",
       "  <tbody>\n",
       "    <tr>\n",
       "      <th>0</th>\n",
       "      <td>2021/6/5</td>\n",
       "      <td>2021/6/6</td>\n",
       "      <td>Store_CA088_Eric</td>\n",
       "      <td>A</td>\n",
       "      <td>pic1.jpg</td>\n",
       "      <td>error1</td>\n",
       "    </tr>\n",
       "    <tr>\n",
       "      <th>1</th>\n",
       "      <td>2021/6/5</td>\n",
       "      <td>2021/6/6</td>\n",
       "      <td>Store_CA133_Eric</td>\n",
       "      <td>A</td>\n",
       "      <td>pic2.jpg</td>\n",
       "      <td>error1</td>\n",
       "    </tr>\n",
       "    <tr>\n",
       "      <th>2</th>\n",
       "      <td>2021/6/5</td>\n",
       "      <td>2021/6/6</td>\n",
       "      <td>Store_DC140_Eric</td>\n",
       "      <td>A</td>\n",
       "      <td>pic3.jpg</td>\n",
       "      <td>error1</td>\n",
       "    </tr>\n",
       "    <tr>\n",
       "      <th>3</th>\n",
       "      <td>2021/6/5</td>\n",
       "      <td>2021/6/6</td>\n",
       "      <td>Store_XC034_Eric</td>\n",
       "      <td>U</td>\n",
       "      <td>pic4.jpg</td>\n",
       "      <td>error1</td>\n",
       "    </tr>\n",
       "    <tr>\n",
       "      <th>4</th>\n",
       "      <td>2021/6/5</td>\n",
       "      <td>2021/6/6</td>\n",
       "      <td>Store_AB121_Eric</td>\n",
       "      <td>A</td>\n",
       "      <td>pic5.jpg</td>\n",
       "      <td>error2</td>\n",
       "    </tr>\n",
       "  </tbody>\n",
       "</table>\n",
       "</div>"
      ],
      "text/plain": [
       "       date identify_date          store_id deed_type file_name  \\\n",
       "0  2021/6/5      2021/6/6  Store_CA088_Eric         A  pic1.jpg   \n",
       "1  2021/6/5      2021/6/6  Store_CA133_Eric         A  pic2.jpg   \n",
       "2  2021/6/5      2021/6/6  Store_DC140_Eric         A  pic3.jpg   \n",
       "3  2021/6/5      2021/6/6  Store_XC034_Eric         U  pic4.jpg   \n",
       "4  2021/6/5      2021/6/6  Store_AB121_Eric         A  pic5.jpg   \n",
       "\n",
       "  identify_status  \n",
       "0          error1  \n",
       "1          error1  \n",
       "2          error1  \n",
       "3          error1  \n",
       "4          error2  "
      ]
     },
     "execution_count": 8,
     "metadata": {},
     "output_type": "execute_result"
    }
   ],
   "source": [
    "deed_detail.head()"
   ]
  },
  {
   "cell_type": "code",
   "execution_count": 9,
   "id": "searching-sword",
   "metadata": {
    "execution": {
     "iopub.execute_input": "2021-06-20T11:55:57.571945Z",
     "iopub.status.busy": "2021-06-20T11:55:57.570948Z",
     "iopub.status.idle": "2021-06-20T11:55:57.583940Z",
     "shell.execute_reply": "2021-06-20T11:55:57.581940Z",
     "shell.execute_reply.started": "2021-06-20T11:55:57.571945Z"
    }
   },
   "outputs": [],
   "source": [
    "# 日期排序\n",
    "date_li.sort()"
   ]
  },
  {
   "cell_type": "code",
   "execution_count": 10,
   "id": "homeless-theta",
   "metadata": {
    "execution": {
     "iopub.execute_input": "2021-06-20T11:55:57.585940Z",
     "iopub.status.busy": "2021-06-20T11:55:57.585940Z",
     "iopub.status.idle": "2021-06-20T11:55:57.615938Z",
     "shell.execute_reply": "2021-06-20T11:55:57.613946Z",
     "shell.execute_reply.started": "2021-06-20T11:55:57.585940Z"
    }
   },
   "outputs": [
    {
     "data": {
      "text/plain": [
       "['20210605', '20210606']"
      ]
     },
     "execution_count": 10,
     "metadata": {},
     "output_type": "execute_result"
    }
   ],
   "source": [
    "date_li"
   ]
  },
  {
   "cell_type": "code",
   "execution_count": 11,
   "id": "consolidated-channels",
   "metadata": {
    "execution": {
     "iopub.execute_input": "2021-06-20T11:55:57.618935Z",
     "iopub.status.busy": "2021-06-20T11:55:57.617935Z",
     "iopub.status.idle": "2021-06-20T11:55:57.629933Z",
     "shell.execute_reply": "2021-06-20T11:55:57.627933Z",
     "shell.execute_reply.started": "2021-06-20T11:55:57.618935Z"
    }
   },
   "outputs": [],
   "source": [
    "date_interval_str = date_li[0] + '_' + date_li[-1]"
   ]
  },
  {
   "cell_type": "code",
   "execution_count": 12,
   "id": "renewable-norwegian",
   "metadata": {
    "execution": {
     "iopub.execute_input": "2021-06-20T11:55:57.634933Z",
     "iopub.status.busy": "2021-06-20T11:55:57.633964Z",
     "iopub.status.idle": "2021-06-20T11:55:58.946490Z",
     "shell.execute_reply": "2021-06-20T11:55:58.944279Z",
     "shell.execute_reply.started": "2021-06-20T11:55:57.634933Z"
    },
    "tags": []
   },
   "outputs": [],
   "source": [
    "franchise_store = pd.read_excel('../Data/store_data.xlsx', engine='openpyxl')"
   ]
  },
  {
   "cell_type": "code",
   "execution_count": 13,
   "id": "terminal-edwards",
   "metadata": {
    "execution": {
     "iopub.execute_input": "2021-06-20T11:55:58.950222Z",
     "iopub.status.busy": "2021-06-20T11:55:58.950222Z",
     "iopub.status.idle": "2021-06-20T11:55:58.993217Z",
     "shell.execute_reply": "2021-06-20T11:55:58.990217Z",
     "shell.execute_reply.started": "2021-06-20T11:55:58.950222Z"
    }
   },
   "outputs": [
    {
     "data": {
      "text/html": [
       "<div>\n",
       "<style scoped>\n",
       "    .dataframe tbody tr th:only-of-type {\n",
       "        vertical-align: middle;\n",
       "    }\n",
       "\n",
       "    .dataframe tbody tr th {\n",
       "        vertical-align: top;\n",
       "    }\n",
       "\n",
       "    .dataframe thead th {\n",
       "        text-align: right;\n",
       "    }\n",
       "</style>\n",
       "<table border=\"1\" class=\"dataframe\">\n",
       "  <thead>\n",
       "    <tr style=\"text-align: right;\">\n",
       "      <th></th>\n",
       "      <th>品牌</th>\n",
       "      <th>店代碼</th>\n",
       "      <th>店名稱</th>\n",
       "    </tr>\n",
       "  </thead>\n",
       "  <tbody>\n",
       "    <tr>\n",
       "      <th>0</th>\n",
       "      <td>Brand_TCE</td>\n",
       "      <td>Store_MB001_Eric</td>\n",
       "      <td>店A1</td>\n",
       "    </tr>\n",
       "    <tr>\n",
       "      <th>1</th>\n",
       "      <td>Brand_TCE</td>\n",
       "      <td>Store_MB002_Eric</td>\n",
       "      <td>店A2</td>\n",
       "    </tr>\n",
       "    <tr>\n",
       "      <th>2</th>\n",
       "      <td>Brand_TCE</td>\n",
       "      <td>Store_MB003_Eric</td>\n",
       "      <td>店A3</td>\n",
       "    </tr>\n",
       "    <tr>\n",
       "      <th>3</th>\n",
       "      <td>Brand_TCE</td>\n",
       "      <td>Store_MB004_Eric</td>\n",
       "      <td>店A4</td>\n",
       "    </tr>\n",
       "    <tr>\n",
       "      <th>4</th>\n",
       "      <td>Brand_TCE</td>\n",
       "      <td>Store_MB005_Eric</td>\n",
       "      <td>店A5</td>\n",
       "    </tr>\n",
       "    <tr>\n",
       "      <th>...</th>\n",
       "      <td>...</td>\n",
       "      <td>...</td>\n",
       "      <td>...</td>\n",
       "    </tr>\n",
       "    <tr>\n",
       "      <th>2044</th>\n",
       "      <td>Brand_YCE</td>\n",
       "      <td>Store_DD010_Eric</td>\n",
       "      <td>店U45</td>\n",
       "    </tr>\n",
       "    <tr>\n",
       "      <th>2045</th>\n",
       "      <td>Brand_YCE</td>\n",
       "      <td>Store_DD011_Eric</td>\n",
       "      <td>店U46</td>\n",
       "    </tr>\n",
       "    <tr>\n",
       "      <th>2046</th>\n",
       "      <td>Brand_YCE</td>\n",
       "      <td>Store_DD012_Eric</td>\n",
       "      <td>店U47</td>\n",
       "    </tr>\n",
       "    <tr>\n",
       "      <th>2047</th>\n",
       "      <td>Brand_YCE</td>\n",
       "      <td>Store_DD013_Eric</td>\n",
       "      <td>店U48</td>\n",
       "    </tr>\n",
       "    <tr>\n",
       "      <th>2048</th>\n",
       "      <td>Brand_YCE</td>\n",
       "      <td>Store_DE001_Eric</td>\n",
       "      <td>店U49</td>\n",
       "    </tr>\n",
       "  </tbody>\n",
       "</table>\n",
       "<p>2049 rows × 3 columns</p>\n",
       "</div>"
      ],
      "text/plain": [
       "             品牌               店代碼   店名稱\n",
       "0     Brand_TCE  Store_MB001_Eric   店A1\n",
       "1     Brand_TCE  Store_MB002_Eric   店A2\n",
       "2     Brand_TCE  Store_MB003_Eric   店A3\n",
       "3     Brand_TCE  Store_MB004_Eric   店A4\n",
       "4     Brand_TCE  Store_MB005_Eric   店A5\n",
       "...         ...               ...   ...\n",
       "2044  Brand_YCE  Store_DD010_Eric  店U45\n",
       "2045  Brand_YCE  Store_DD011_Eric  店U46\n",
       "2046  Brand_YCE  Store_DD012_Eric  店U47\n",
       "2047  Brand_YCE  Store_DD013_Eric  店U48\n",
       "2048  Brand_YCE  Store_DE001_Eric  店U49\n",
       "\n",
       "[2049 rows x 3 columns]"
      ]
     },
     "execution_count": 13,
     "metadata": {},
     "output_type": "execute_result"
    }
   ],
   "source": [
    "franchise_store"
   ]
  },
  {
   "cell_type": "code",
   "execution_count": 14,
   "id": "twelve-announcement",
   "metadata": {
    "execution": {
     "iopub.execute_input": "2021-06-20T11:55:58.996217Z",
     "iopub.status.busy": "2021-06-20T11:55:58.995217Z",
     "iopub.status.idle": "2021-06-20T11:55:59.023212Z",
     "shell.execute_reply": "2021-06-20T11:55:59.021215Z",
     "shell.execute_reply.started": "2021-06-20T11:55:58.996217Z"
    }
   },
   "outputs": [],
   "source": [
    "df = deed_detail.merge(franchise_store, how = 'left', left_on='store_id', right_on='店代碼')"
   ]
  },
  {
   "cell_type": "code",
   "execution_count": 15,
   "id": "worldwide-personal",
   "metadata": {
    "execution": {
     "iopub.execute_input": "2021-06-20T11:55:59.028213Z",
     "iopub.status.busy": "2021-06-20T11:55:59.027212Z",
     "iopub.status.idle": "2021-06-20T11:55:59.071943Z",
     "shell.execute_reply": "2021-06-20T11:55:59.069205Z",
     "shell.execute_reply.started": "2021-06-20T11:55:59.027212Z"
    }
   },
   "outputs": [
    {
     "data": {
      "text/html": [
       "<div>\n",
       "<style scoped>\n",
       "    .dataframe tbody tr th:only-of-type {\n",
       "        vertical-align: middle;\n",
       "    }\n",
       "\n",
       "    .dataframe tbody tr th {\n",
       "        vertical-align: top;\n",
       "    }\n",
       "\n",
       "    .dataframe thead th {\n",
       "        text-align: right;\n",
       "    }\n",
       "</style>\n",
       "<table border=\"1\" class=\"dataframe\">\n",
       "  <thead>\n",
       "    <tr style=\"text-align: right;\">\n",
       "      <th></th>\n",
       "      <th>date</th>\n",
       "      <th>identify_date</th>\n",
       "      <th>store_id</th>\n",
       "      <th>deed_type</th>\n",
       "      <th>file_name</th>\n",
       "      <th>identify_status</th>\n",
       "      <th>品牌</th>\n",
       "      <th>店代碼</th>\n",
       "      <th>店名稱</th>\n",
       "    </tr>\n",
       "  </thead>\n",
       "  <tbody>\n",
       "    <tr>\n",
       "      <th>0</th>\n",
       "      <td>2021/6/5</td>\n",
       "      <td>2021/6/6</td>\n",
       "      <td>Store_CA088_Eric</td>\n",
       "      <td>A</td>\n",
       "      <td>pic1.jpg</td>\n",
       "      <td>error1</td>\n",
       "      <td>Brand_YCE</td>\n",
       "      <td>Store_CA088_Eric</td>\n",
       "      <td>店R6</td>\n",
       "    </tr>\n",
       "    <tr>\n",
       "      <th>1</th>\n",
       "      <td>2021/6/5</td>\n",
       "      <td>2021/6/6</td>\n",
       "      <td>Store_CA133_Eric</td>\n",
       "      <td>A</td>\n",
       "      <td>pic2.jpg</td>\n",
       "      <td>error1</td>\n",
       "      <td>Brand_YCE</td>\n",
       "      <td>Store_CA133_Eric</td>\n",
       "      <td>店R49</td>\n",
       "    </tr>\n",
       "    <tr>\n",
       "      <th>2</th>\n",
       "      <td>2021/6/5</td>\n",
       "      <td>2021/6/6</td>\n",
       "      <td>Store_DC140_Eric</td>\n",
       "      <td>A</td>\n",
       "      <td>pic3.jpg</td>\n",
       "      <td>error1</td>\n",
       "      <td>Brand_YCE</td>\n",
       "      <td>Store_DC140_Eric</td>\n",
       "      <td>店U10</td>\n",
       "    </tr>\n",
       "  </tbody>\n",
       "</table>\n",
       "</div>"
      ],
      "text/plain": [
       "       date identify_date          store_id deed_type file_name  \\\n",
       "0  2021/6/5      2021/6/6  Store_CA088_Eric         A  pic1.jpg   \n",
       "1  2021/6/5      2021/6/6  Store_CA133_Eric         A  pic2.jpg   \n",
       "2  2021/6/5      2021/6/6  Store_DC140_Eric         A  pic3.jpg   \n",
       "\n",
       "  identify_status         品牌               店代碼   店名稱  \n",
       "0          error1  Brand_YCE  Store_CA088_Eric   店R6  \n",
       "1          error1  Brand_YCE  Store_CA133_Eric  店R49  \n",
       "2          error1  Brand_YCE  Store_DC140_Eric  店U10  "
      ]
     },
     "execution_count": 15,
     "metadata": {},
     "output_type": "execute_result"
    }
   ],
   "source": [
    "df.head(3)"
   ]
  },
  {
   "cell_type": "code",
   "execution_count": 16,
   "id": "aquatic-headquarters",
   "metadata": {
    "execution": {
     "iopub.execute_input": "2021-06-20T11:55:59.079719Z",
     "iopub.status.busy": "2021-06-20T11:55:59.078720Z",
     "iopub.status.idle": "2021-06-20T11:55:59.102715Z",
     "shell.execute_reply": "2021-06-20T11:55:59.100715Z",
     "shell.execute_reply.started": "2021-06-20T11:55:59.079719Z"
    }
   },
   "outputs": [
    {
     "name": "stdout",
     "output_type": "stream",
     "text": [
      "7天內資料總數:  1403\n"
     ]
    }
   ],
   "source": [
    "print('7天內資料總數: ',len(df))"
   ]
  },
  {
   "cell_type": "code",
   "execution_count": 17,
   "id": "former-attachment",
   "metadata": {
    "execution": {
     "iopub.execute_input": "2021-06-20T11:55:59.105715Z",
     "iopub.status.busy": "2021-06-20T11:55:59.104715Z",
     "iopub.status.idle": "2021-06-20T11:55:59.134710Z",
     "shell.execute_reply": "2021-06-20T11:55:59.132711Z",
     "shell.execute_reply.started": "2021-06-20T11:55:59.105715Z"
    },
    "tags": []
   },
   "outputs": [],
   "source": [
    "df = df[['date', 'identify_date', 'store_id', '品牌', '店名稱', 'deed_type', 'file_name', 'identify_status']]"
   ]
  },
  {
   "cell_type": "code",
   "execution_count": 18,
   "id": "965c19de-d5f8-4958-91fc-d83d0a78d1c5",
   "metadata": {
    "execution": {
     "iopub.execute_input": "2021-06-20T11:55:59.138709Z",
     "iopub.status.busy": "2021-06-20T11:55:59.136713Z",
     "iopub.status.idle": "2021-06-20T11:55:59.180704Z",
     "shell.execute_reply": "2021-06-20T11:55:59.178710Z",
     "shell.execute_reply.started": "2021-06-20T11:55:59.138709Z"
    },
    "tags": []
   },
   "outputs": [],
   "source": [
    "# remove file_name is null\n",
    "df = df.query(\"file_name==file_name\")\n",
    "df = df.reset_index(drop=True)"
   ]
  },
  {
   "cell_type": "code",
   "execution_count": 19,
   "id": "virtual-cocktail",
   "metadata": {
    "execution": {
     "iopub.execute_input": "2021-06-20T11:55:59.183703Z",
     "iopub.status.busy": "2021-06-20T11:55:59.182703Z",
     "iopub.status.idle": "2021-06-20T11:55:59.212238Z",
     "shell.execute_reply": "2021-06-20T11:55:59.209246Z",
     "shell.execute_reply.started": "2021-06-20T11:55:59.183703Z"
    },
    "tags": []
   },
   "outputs": [],
   "source": [
    "column_has_null_value = df.isna().any()\n",
    "if column_has_null_value.any():\n",
    "    raise ValueError('dataframe ha some non value')"
   ]
  },
  {
   "cell_type": "code",
   "execution_count": 20,
   "id": "radio-playback",
   "metadata": {
    "execution": {
     "iopub.execute_input": "2021-06-20T11:55:59.217238Z",
     "iopub.status.busy": "2021-06-20T11:55:59.216238Z",
     "iopub.status.idle": "2021-06-20T11:55:59.229241Z",
     "shell.execute_reply": "2021-06-20T11:55:59.224235Z",
     "shell.execute_reply.started": "2021-06-20T11:55:59.216238Z"
    },
    "tags": []
   },
   "outputs": [],
   "source": [
    "def convert_error(x):\n",
    "    if re.search(r'^error', x):\n",
    "        res = 'error'\n",
    "    else:\n",
    "        res = x\n",
    "    return res"
   ]
  },
  {
   "cell_type": "code",
   "execution_count": 21,
   "id": "concerned-chapter",
   "metadata": {
    "execution": {
     "iopub.execute_input": "2021-06-20T11:55:59.249233Z",
     "iopub.status.busy": "2021-06-20T11:55:59.244233Z",
     "iopub.status.idle": "2021-06-20T11:55:59.271230Z",
     "shell.execute_reply": "2021-06-20T11:55:59.270229Z",
     "shell.execute_reply.started": "2021-06-20T11:55:59.249233Z"
    },
    "tags": []
   },
   "outputs": [],
   "source": [
    "df['identify_status_type'] = df['identify_status'].apply(convert_error)"
   ]
  },
  {
   "cell_type": "code",
   "execution_count": 22,
   "id": "tough-easter",
   "metadata": {
    "execution": {
     "iopub.execute_input": "2021-06-20T11:55:59.275234Z",
     "iopub.status.busy": "2021-06-20T11:55:59.274229Z",
     "iopub.status.idle": "2021-06-20T11:55:59.349218Z",
     "shell.execute_reply": "2021-06-20T11:55:59.347217Z",
     "shell.execute_reply.started": "2021-06-20T11:55:59.275234Z"
    },
    "tags": []
   },
   "outputs": [
    {
     "data": {
      "text/html": [
       "<div>\n",
       "<style scoped>\n",
       "    .dataframe tbody tr th:only-of-type {\n",
       "        vertical-align: middle;\n",
       "    }\n",
       "\n",
       "    .dataframe tbody tr th {\n",
       "        vertical-align: top;\n",
       "    }\n",
       "\n",
       "    .dataframe thead th {\n",
       "        text-align: right;\n",
       "    }\n",
       "</style>\n",
       "<table border=\"1\" class=\"dataframe\">\n",
       "  <thead>\n",
       "    <tr style=\"text-align: right;\">\n",
       "      <th></th>\n",
       "      <th>date</th>\n",
       "      <th>identify_date</th>\n",
       "      <th>store_id</th>\n",
       "      <th>品牌</th>\n",
       "      <th>店名稱</th>\n",
       "      <th>deed_type</th>\n",
       "      <th>file_name</th>\n",
       "      <th>identify_status</th>\n",
       "      <th>identify_status_type</th>\n",
       "    </tr>\n",
       "  </thead>\n",
       "  <tbody>\n",
       "    <tr>\n",
       "      <th>0</th>\n",
       "      <td>2021/6/5</td>\n",
       "      <td>2021/6/6</td>\n",
       "      <td>Store_CA088_Eric</td>\n",
       "      <td>Brand_YCE</td>\n",
       "      <td>店R6</td>\n",
       "      <td>A</td>\n",
       "      <td>pic1.jpg</td>\n",
       "      <td>error1</td>\n",
       "      <td>error</td>\n",
       "    </tr>\n",
       "    <tr>\n",
       "      <th>1</th>\n",
       "      <td>2021/6/5</td>\n",
       "      <td>2021/6/6</td>\n",
       "      <td>Store_CA133_Eric</td>\n",
       "      <td>Brand_YCE</td>\n",
       "      <td>店R49</td>\n",
       "      <td>A</td>\n",
       "      <td>pic2.jpg</td>\n",
       "      <td>error1</td>\n",
       "      <td>error</td>\n",
       "    </tr>\n",
       "    <tr>\n",
       "      <th>2</th>\n",
       "      <td>2021/6/5</td>\n",
       "      <td>2021/6/6</td>\n",
       "      <td>Store_DC140_Eric</td>\n",
       "      <td>Brand_YCE</td>\n",
       "      <td>店U10</td>\n",
       "      <td>A</td>\n",
       "      <td>pic3.jpg</td>\n",
       "      <td>error1</td>\n",
       "      <td>error</td>\n",
       "    </tr>\n",
       "    <tr>\n",
       "      <th>3</th>\n",
       "      <td>2021/6/5</td>\n",
       "      <td>2021/6/6</td>\n",
       "      <td>Store_XC034_Eric</td>\n",
       "      <td>Brand_UTE</td>\n",
       "      <td>店L94</td>\n",
       "      <td>U</td>\n",
       "      <td>pic4.jpg</td>\n",
       "      <td>error1</td>\n",
       "      <td>error</td>\n",
       "    </tr>\n",
       "    <tr>\n",
       "      <th>4</th>\n",
       "      <td>2021/6/5</td>\n",
       "      <td>2021/6/6</td>\n",
       "      <td>Store_AB121_Eric</td>\n",
       "      <td>Brand_YCE</td>\n",
       "      <td>店N49</td>\n",
       "      <td>A</td>\n",
       "      <td>pic5.jpg</td>\n",
       "      <td>error2</td>\n",
       "      <td>error</td>\n",
       "    </tr>\n",
       "    <tr>\n",
       "      <th>...</th>\n",
       "      <td>...</td>\n",
       "      <td>...</td>\n",
       "      <td>...</td>\n",
       "      <td>...</td>\n",
       "      <td>...</td>\n",
       "      <td>...</td>\n",
       "      <td>...</td>\n",
       "      <td>...</td>\n",
       "      <td>...</td>\n",
       "    </tr>\n",
       "    <tr>\n",
       "      <th>858</th>\n",
       "      <td>2021/6/5</td>\n",
       "      <td>2021/6/6</td>\n",
       "      <td>Store_WD007_Eric</td>\n",
       "      <td>Brand_UTE</td>\n",
       "      <td>店L30</td>\n",
       "      <td>H</td>\n",
       "      <td>pic859.jpg</td>\n",
       "      <td>ok</td>\n",
       "      <td>ok</td>\n",
       "    </tr>\n",
       "    <tr>\n",
       "      <th>859</th>\n",
       "      <td>2021/6/5</td>\n",
       "      <td>2021/6/6</td>\n",
       "      <td>Store_WD007_Eric</td>\n",
       "      <td>Brand_UTE</td>\n",
       "      <td>店L30</td>\n",
       "      <td>U</td>\n",
       "      <td>pic860.jpg</td>\n",
       "      <td>ok</td>\n",
       "      <td>ok</td>\n",
       "    </tr>\n",
       "    <tr>\n",
       "      <th>860</th>\n",
       "      <td>2021/6/5</td>\n",
       "      <td>2021/6/6</td>\n",
       "      <td>Store_WD007_Eric</td>\n",
       "      <td>Brand_UTE</td>\n",
       "      <td>店L30</td>\n",
       "      <td>U</td>\n",
       "      <td>pic861.jpg</td>\n",
       "      <td>ok</td>\n",
       "      <td>ok</td>\n",
       "    </tr>\n",
       "    <tr>\n",
       "      <th>861</th>\n",
       "      <td>2021/6/5</td>\n",
       "      <td>2021/6/6</td>\n",
       "      <td>Store_WD007_Eric</td>\n",
       "      <td>Brand_UTE</td>\n",
       "      <td>店L30</td>\n",
       "      <td>U</td>\n",
       "      <td>pic862.jpg</td>\n",
       "      <td>ok</td>\n",
       "      <td>ok</td>\n",
       "    </tr>\n",
       "    <tr>\n",
       "      <th>862</th>\n",
       "      <td>2021/6/5</td>\n",
       "      <td>2021/6/6</td>\n",
       "      <td>Store_WD009_Eric</td>\n",
       "      <td>Brand_UTE</td>\n",
       "      <td>店L32</td>\n",
       "      <td>U</td>\n",
       "      <td>pic863.jpg</td>\n",
       "      <td>ok</td>\n",
       "      <td>ok</td>\n",
       "    </tr>\n",
       "  </tbody>\n",
       "</table>\n",
       "<p>863 rows × 9 columns</p>\n",
       "</div>"
      ],
      "text/plain": [
       "         date identify_date          store_id         品牌   店名稱 deed_type  \\\n",
       "0    2021/6/5      2021/6/6  Store_CA088_Eric  Brand_YCE   店R6         A   \n",
       "1    2021/6/5      2021/6/6  Store_CA133_Eric  Brand_YCE  店R49         A   \n",
       "2    2021/6/5      2021/6/6  Store_DC140_Eric  Brand_YCE  店U10         A   \n",
       "3    2021/6/5      2021/6/6  Store_XC034_Eric  Brand_UTE  店L94         U   \n",
       "4    2021/6/5      2021/6/6  Store_AB121_Eric  Brand_YCE  店N49         A   \n",
       "..        ...           ...               ...        ...   ...       ...   \n",
       "858  2021/6/5      2021/6/6  Store_WD007_Eric  Brand_UTE  店L30         H   \n",
       "859  2021/6/5      2021/6/6  Store_WD007_Eric  Brand_UTE  店L30         U   \n",
       "860  2021/6/5      2021/6/6  Store_WD007_Eric  Brand_UTE  店L30         U   \n",
       "861  2021/6/5      2021/6/6  Store_WD007_Eric  Brand_UTE  店L30         U   \n",
       "862  2021/6/5      2021/6/6  Store_WD009_Eric  Brand_UTE  店L32         U   \n",
       "\n",
       "      file_name identify_status identify_status_type  \n",
       "0      pic1.jpg          error1                error  \n",
       "1      pic2.jpg          error1                error  \n",
       "2      pic3.jpg          error1                error  \n",
       "3      pic4.jpg          error1                error  \n",
       "4      pic5.jpg          error2                error  \n",
       "..          ...             ...                  ...  \n",
       "858  pic859.jpg              ok                   ok  \n",
       "859  pic860.jpg              ok                   ok  \n",
       "860  pic861.jpg              ok                   ok  \n",
       "861  pic862.jpg              ok                   ok  \n",
       "862  pic863.jpg              ok                   ok  \n",
       "\n",
       "[863 rows x 9 columns]"
      ]
     },
     "execution_count": 22,
     "metadata": {},
     "output_type": "execute_result"
    }
   ],
   "source": [
    "df"
   ]
  },
  {
   "cell_type": "markdown",
   "id": "painful-disclaimer",
   "metadata": {},
   "source": [
    "初始自動化程序<br>\n",
    "步驟如下：\n",
    "1. 透過 pd.ExcelWriter，將上面跑的資料作為樣板，建一個 xlsx file 在 meta_data 資料夾當中\n",
    "2. 程式會自動打開步驟一建立的檔案，然後請手動建立 Excel 巨集(巨集名稱要跟你在notebook中一樣)，完成後輸入Y，程式會先檢查你是否真的建立一個含有巨集的 Excel(副檔名為 xlsm)\n",
    "3. 找到此腳本(vba_extract.py) 在你電腦的位置，我的電腦是在 D:\\Anaconda3\\Scripts 當中，將當前目錄更改到 D:\\Anaconda3\\Scripts\n",
    "4. 透過 D:\\Anaconda3\\Scripts 當中的 vba_extract.py ，從含有巨集的 Excel 當中萃取出巨集檔 (vbaProject.bin)在當前目錄(D:\\Anaconda3\\Scripts)\n",
    "    * 將 vbaProject.bin 改成你喜歡的名子，並移動到此 notebook 所處的資料夾\n",
    "    * 將當前目錄更改回此 notebook 所處的資料夾"
   ]
  },
  {
   "cell_type": "code",
   "execution_count": 23,
   "id": "naked-chosen",
   "metadata": {
    "execution": {
     "iopub.execute_input": "2021-06-20T11:55:59.355217Z",
     "iopub.status.busy": "2021-06-20T11:55:59.352218Z",
     "iopub.status.idle": "2021-06-20T11:55:59.380212Z",
     "shell.execute_reply": "2021-06-20T11:55:59.378212Z",
     "shell.execute_reply.started": "2021-06-20T11:55:59.355217Z"
    }
   },
   "outputs": [],
   "source": [
    "excel_macro_template_name = 'excel_macro_template'"
   ]
  },
  {
   "cell_type": "code",
   "execution_count": 24,
   "id": "stone-spice",
   "metadata": {
    "execution": {
     "iopub.execute_input": "2021-06-20T11:55:59.388211Z",
     "iopub.status.busy": "2021-06-20T11:55:59.387214Z",
     "iopub.status.idle": "2021-06-20T11:56:04.705786Z",
     "shell.execute_reply": "2021-06-20T11:56:04.704821Z",
     "shell.execute_reply.started": "2021-06-20T11:55:59.388211Z"
    },
    "tags": []
   },
   "outputs": [
    {
     "name": "stdin",
     "output_type": "stream",
     "text": [
      "Type excel macro name(ex.create_pvtb_by_week):  create_pvtb_by_week\n"
     ]
    }
   ],
   "source": [
    "Code_abspath = os.getcwd()\n",
    "meta_data_abspath = os.path.abspath(os.path.join(os.getcwd(), \"..\"))+'\\\\Data\\\\meta_data'\n",
    "Output_abspath = os.path.abspath(os.path.join(os.getcwd(), \"..\"))+'\\\\Output'\n",
    "macro_name = input('Type excel macro name(ex.create_pvtb_by_week): ')"
   ]
  },
  {
   "cell_type": "code",
   "execution_count": 25,
   "id": "aboriginal-polish",
   "metadata": {
    "execution": {
     "iopub.execute_input": "2021-06-20T11:56:04.711788Z",
     "iopub.status.busy": "2021-06-20T11:56:04.710784Z",
     "iopub.status.idle": "2021-06-20T11:56:04.738779Z",
     "shell.execute_reply": "2021-06-20T11:56:04.736780Z",
     "shell.execute_reply.started": "2021-06-20T11:56:04.711788Z"
    },
    "tags": []
   },
   "outputs": [
    {
     "name": "stdout",
     "output_type": "stream",
     "text": [
      "Auto mode\n",
      "=================================================\n"
     ]
    }
   ],
   "source": [
    "if procss=='initial':\n",
    "    print('Initial mode\\n=================================================')\n",
    "    \n",
    "    ### Step 1\n",
    "    xlsx_macro_template_path = os.path.abspath(f'../Data/meta_data/{excel_macro_template_name}.xlsx')\n",
    "    writer = pd.ExcelWriter(xlsx_macro_template_path)\n",
    "    df.to_excel(writer, index=False, sheet_name=f'{date_interval_str}下載辨識結果', header=True)\n",
    "    writer.save()\n",
    "\n",
    "    ### Step 2\n",
    "    xl= win32.Dispatch(\"Excel.Application\")\n",
    "    wb = xl.Workbooks.Open(xlsx_macro_template_path)  # , ReadOnly=1\n",
    "    xl.Visible = True\n",
    "    print('1. please record a macro in Excel\\n2. Save as xlsm file in the same path')\n",
    "    complete_step = input('Whether the above step is complete?(Y/N)')\n",
    "\n",
    "    if complete_step == 'Y' or complete_step == 'y':\n",
    "        # check excel which has macro whether exist\n",
    "        if os.path.exists(f'../Data/meta_data/{excel_macro_template_name}.xlsm'):\n",
    "            pass\n",
    "        else:\n",
    "            raise FileNotFoundError(\"You didn't create a macro template\")\n",
    "    else:\n",
    "        raise ValueError('Step not completed. Please restart kernel and run notebook again')\n",
    "\n",
    "\n",
    "    ### Step 3\n",
    "    #### Extract a macro from Excel\n",
    "    if complete_step == 'Y' or complete_step == 'y':\n",
    "        file_path = 'D:\\Anaconda3\\Scripts'\n",
    "        os.chdir(file_path)\n",
    "\n",
    "        run_script = f\"python vba_extract.py {meta_data_abspath + '/' + excel_macro_template_name + '.xlsm'}\"\n",
    "        os.system(run_script)\n",
    "\n",
    "    #     meta_data_file_path = 'D:\\python\\deal_with_excel\\Data\\meta_data'\n",
    "        os.rename('vbaProject.bin', meta_data_abspath+'\\\\'+ macro_name+'.bin')\n",
    "\n",
    "    #     code_file_path = 'D:\\python\\deal_with_excel\\Code'\n",
    "        os.chdir(Code_abspath)\n",
    "    else:\n",
    "        raise ValueError('Step not completed. Please restart kernel and run notebook again')\n",
    "else:\n",
    "    print('Auto mode\\n=================================================')"
   ]
  },
  {
   "cell_type": "markdown",
   "id": "large-diameter",
   "metadata": {},
   "source": [
    "---\n",
    "初始自動化程序<br>\n",
    "步驟如下：\n",
    "1. 建立一個 excel，將上方所得的 data frame 寫入 xlsx file，然後修改副檔名成 xlsm，在 load excel 巨集檔(vbaProject.bin)到 excel 中，並儲存\n",
    "2. 透過 win32 套件連接 excel 應用程式\n",
    "3. 打開上一步驟儲存的應用程式\n",
    "4. 運行巨集\n",
    "5. 儲存結果到 Output 資料夾\n",
    "6. 關閉 excel 應用程式"
   ]
  },
  {
   "cell_type": "markdown",
   "id": "loved-swiss",
   "metadata": {
    "execution": {
     "iopub.execute_input": "2021-04-02T13:01:59.475826Z",
     "iopub.status.busy": "2021-04-02T13:01:59.475826Z",
     "iopub.status.idle": "2021-04-02T13:01:59.487823Z",
     "shell.execute_reply": "2021-04-02T13:01:59.485846Z",
     "shell.execute_reply.started": "2021-04-02T13:01:59.475826Z"
    }
   },
   "source": [
    "### Step 1"
   ]
  },
  {
   "cell_type": "code",
   "execution_count": 26,
   "id": "6953cb1b-1860-405e-a9f3-1d360d02117a",
   "metadata": {
    "execution": {
     "iopub.execute_input": "2021-06-20T11:56:04.744779Z",
     "iopub.status.busy": "2021-06-20T11:56:04.744779Z",
     "iopub.status.idle": "2021-06-20T11:56:04.769773Z",
     "shell.execute_reply": "2021-06-20T11:56:04.767775Z",
     "shell.execute_reply.started": "2021-06-20T11:56:04.744779Z"
    },
    "tags": []
   },
   "outputs": [
    {
     "data": {
      "text/plain": [
       "'D:\\\\python\\\\excel_auto_pivot_table-main\\\\Data\\\\meta_data\\\\excel_macro_template.xlsm'"
      ]
     },
     "execution_count": 26,
     "metadata": {},
     "output_type": "execute_result"
    }
   ],
   "source": [
    "os.path.abspath(meta_data_abspath + f'\\\\{excel_macro_template_name}.xlsm')"
   ]
  },
  {
   "cell_type": "code",
   "execution_count": 27,
   "id": "ede71106-8744-42b7-86b6-72e2c0062173",
   "metadata": {
    "execution": {
     "iopub.execute_input": "2021-06-20T11:56:04.773773Z",
     "iopub.status.busy": "2021-06-20T11:56:04.772777Z",
     "iopub.status.idle": "2021-06-20T11:56:05.237424Z",
     "shell.execute_reply": "2021-06-20T11:56:05.236061Z",
     "shell.execute_reply.started": "2021-06-20T11:56:04.773773Z"
    },
    "tags": []
   },
   "outputs": [],
   "source": [
    "writer = pd.ExcelWriter(meta_data_abspath + f'\\\\{excel_macro_template_name}.xlsx')\n",
    "df.to_excel(writer, index=False, sheet_name = f'{date_interval_str}下載辨識結果', header=True)  # 這裡會覆蓋原本是 template 的資料\n",
    "\n",
    "wb = writer.book\n",
    "wb.filename = os.path.abspath(meta_data_abspath + f'\\\\{excel_macro_template_name}.xlsm')\n",
    "if os.path.exists(meta_data_abspath + f'\\\\{macro_name}.bin'):\n",
    "    wb.add_vba_project(os.path.abspath(meta_data_abspath + f'\\\\{macro_name}.bin'))\n",
    "else:\n",
    "    raise ValueError(\"Can't found macro file\")\n",
    "writer.save()"
   ]
  },
  {
   "cell_type": "markdown",
   "id": "threaded-eugene",
   "metadata": {
    "execution": {
     "iopub.execute_input": "2021-04-02T13:02:21.887841Z",
     "iopub.status.busy": "2021-04-02T13:02:21.886841Z",
     "iopub.status.idle": "2021-04-02T13:02:21.899838Z",
     "shell.execute_reply": "2021-04-02T13:02:21.897840Z",
     "shell.execute_reply.started": "2021-04-02T13:02:21.887841Z"
    }
   },
   "source": [
    "### Step2-Step6"
   ]
  },
  {
   "cell_type": "code",
   "execution_count": 28,
   "id": "ad41c9a2-e2b3-4784-ab3c-7f9ce94fa871",
   "metadata": {
    "execution": {
     "iopub.execute_input": "2021-06-20T11:56:05.239442Z",
     "iopub.status.busy": "2021-06-20T11:56:05.238440Z",
     "iopub.status.idle": "2021-06-20T11:56:05.252440Z",
     "shell.execute_reply": "2021-06-20T11:56:05.251439Z",
     "shell.execute_reply.started": "2021-06-20T11:56:05.239442Z"
    }
   },
   "outputs": [
    {
     "data": {
      "text/plain": [
       "'D:\\\\python\\\\excel_auto_pivot_table-main\\\\Output'"
      ]
     },
     "execution_count": 28,
     "metadata": {},
     "output_type": "execute_result"
    }
   ],
   "source": [
    "Output_abspath"
   ]
  },
  {
   "cell_type": "code",
   "execution_count": 29,
   "id": "artificial-picture",
   "metadata": {
    "execution": {
     "iopub.execute_input": "2021-06-20T11:56:05.256437Z",
     "iopub.status.busy": "2021-06-20T11:56:05.255439Z",
     "iopub.status.idle": "2021-06-20T11:56:07.823427Z",
     "shell.execute_reply": "2021-06-20T11:56:07.821429Z",
     "shell.execute_reply.started": "2021-06-20T11:56:05.256437Z"
    },
    "tags": []
   },
   "outputs": [],
   "source": [
    "if os.path.exists(meta_data_abspath+f'\\\\{excel_macro_template_name}.xlsm'):\n",
    "    try:\n",
    "        xl= win32.Dispatch(\"Excel.Application\")\n",
    "        wb = xl.Workbooks.Open(os.path.abspath(meta_data_abspath + f\"\\\\{excel_macro_template_name}.xlsm\"))  # , ReadOnly=1\n",
    "        xl.Application.Run(f\"{excel_macro_template_name}.xlsm!Module1.{macro_name}\")\n",
    "        # if you want to save then uncomment this line and change delete the \", ReadOnly=1\" part from the open function.\n",
    "        xl.Visible = True\n",
    "        wb.SaveAs(os.path.abspath(Output_abspath + f\"\\\\{date_interval_str}下載辨識結果.xlsm\"))\n",
    "    finally:    \n",
    "        xl.Application.Quit() # Comment this out if your excel script closes\n",
    "\n",
    "    del xl"
   ]
  },
  {
   "cell_type": "code",
   "execution_count": 30,
   "id": "oriented-health",
   "metadata": {
    "execution": {
     "iopub.execute_input": "2021-06-20T11:56:07.834425Z",
     "iopub.status.busy": "2021-06-20T11:56:07.832433Z",
     "iopub.status.idle": "2021-06-20T11:56:07.856422Z",
     "shell.execute_reply": "2021-06-20T11:56:07.853422Z",
     "shell.execute_reply.started": "2021-06-20T11:56:07.834425Z"
    }
   },
   "outputs": [],
   "source": [
    "# os.remove(f'../Data/meta_data/{excel_macro_template_name}.xlsm')"
   ]
  },
  {
   "cell_type": "code",
   "execution_count": 31,
   "id": "understanding-retention",
   "metadata": {
    "execution": {
     "iopub.execute_input": "2021-06-20T11:56:07.868421Z",
     "iopub.status.busy": "2021-06-20T11:56:07.866422Z",
     "iopub.status.idle": "2021-06-20T11:56:07.887418Z",
     "shell.execute_reply": "2021-06-20T11:56:07.884419Z",
     "shell.execute_reply.started": "2021-06-20T11:56:07.868421Z"
    },
    "tags": []
   },
   "outputs": [],
   "source": [
    "# # convert notebook.ipynb to a .py file\n",
    "# !jupytext --to py auto_excel.ipynb"
   ]
  }
 ],
 "metadata": {
  "kernelspec": {
   "display_name": "Python 3",
   "language": "python",
   "name": "python3"
  },
  "language_info": {
   "codemirror_mode": {
    "name": "ipython",
    "version": 3
   },
   "file_extension": ".py",
   "mimetype": "text/x-python",
   "name": "python",
   "nbconvert_exporter": "python",
   "pygments_lexer": "ipython3",
   "version": "3.7.10"
  }
 },
 "nbformat": 4,
 "nbformat_minor": 5
}
